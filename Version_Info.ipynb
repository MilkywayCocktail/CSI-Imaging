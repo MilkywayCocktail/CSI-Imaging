{
 "cells": [
  {
   "cell_type": "markdown",
   "id": "9648ab9f-ed3d-477f-ba51-f6a00693b2ac",
   "metadata": {},
   "source": [
    "# Version Info"
   ]
  },
  {
   "cell_type": "markdown",
   "id": "3a0256bf-8809-40b6-affe-e5c8c0511164",
   "metadata": {},
   "source": [
    "## v00"
   ]
  },
  {
   "cell_type": "markdown",
   "id": "54792864-ab6a-419a-9a28-93cef1b334da",
   "metadata": {},
   "source": [
    "## v01"
   ]
  },
  {
   "cell_type": "markdown",
   "id": "d332b16b-0848-4397-9315-60500224f767",
   "metadata": {},
   "source": [
    "### v01a\n",
    "input: CSI （2 * 90 * 33)<br>\n",
    "output: center coordinates (3)<br>\n",
    "\n",
    "<b>v01a1</b><br>\n",
    "input: CSI （2 * 90 * 33)<br>\n",
    "output: center coordinates (3)<br>\n",
    "<b>v01a2</b><br>\n",
    "input: depth image (128 * 128)<br>\n",
    "output: center coordinates (3)<br>"
   ]
  },
  {
   "cell_type": "markdown",
   "id": "1788d262-f031-4ee7-a944-247672673628",
   "metadata": {},
   "source": [
    "### v01b\n",
    "input: CSI （2 * 90 * 33)<br>\n",
    "output: depth image (128 * 128)<br>\n",
    "\n",
    "<b>v01b1</b><br>\n",
    "input: CSI （2 * 90 * 100)<br>\n",
    "output: depth image (128 * 128)<br>\n",
    "\n",
    "<b>v01b2</b><br>\n",
    "input: CSI (2 * 90 * 100)<br>\n",
    "output: side label (3)<br>\n",
    "\n",
    "<b>v01b3</b><br>\n",
    "input: CSI (2 * 100 * 30 * 3)<br>\n",
    "output: side label (3)<br>\n",
    "CNN-LSTM-LSTM-FC<br>\n",
    "\n",
    "<b>v01b4</b><br>\n",
    "input: CSI (2 * 100 * 30 * 3)<br>\n",
    "output: side label (3)<br>\n",
    "CNN-GAP-FC-FC<br>"
   ]
  },
  {
   "cell_type": "code",
   "execution_count": null,
   "id": "dd274d24-bb23-4fd8-bfbd-486b1080c53c",
   "metadata": {},
   "outputs": [],
   "source": []
  }
 ],
 "metadata": {
  "kernelspec": {
   "display_name": "Python 3",
   "language": "python",
   "name": "python3"
  },
  "language_info": {
   "codemirror_mode": {
    "name": "ipython",
    "version": 3
   },
   "file_extension": ".py",
   "mimetype": "text/x-python",
   "name": "python",
   "nbconvert_exporter": "python",
   "pygments_lexer": "ipython3",
   "version": "3.8.8"
  }
 },
 "nbformat": 4,
 "nbformat_minor": 5
}
