{
 "cells": [
  {
   "cell_type": "code",
   "execution_count": 1,
   "id": "46e4d312-8e4c-4696-81fe-2f3b91645394",
   "metadata": {},
   "outputs": [],
   "source": [
    "# Imports\n",
    "# !pip install torchinfo\n",
    "import torch\n",
    "import torch.nn as nn\n",
    "import torch.utils.data as Data\n",
    "import torchvision\n",
    "from torchinfo import summary\n",
    "import matplotlib.pyplot as plt\n",
    "import numpy as np\n",
    "import random\n",
    "import os\n",
    "import time\n",
    "import TrainingPresets as TP"
   ]
  },
  {
   "cell_type": "code",
   "execution_count": 2,
   "id": "7e04b3ac-c5e3-4e5a-99dd-df38a5afab0f",
   "metadata": {},
   "outputs": [],
   "source": [
    "import model_v01b3 as mymodel"
   ]
  },
  {
   "cell_type": "code",
   "execution_count": 3,
   "id": "f4502ecc-81ff-4973-94d7-6ec7c77ce717",
   "metadata": {},
   "outputs": [
    {
     "data": {
      "text/plain": [
       "==========================================================================================\n",
       "Layer (type:depth-idx)                   Output Shape              Param #\n",
       "==========================================================================================\n",
       "MyModel                                  [1, 3]                    --\n",
       "├─MyEncoder: 1-1                         [1, 86, 128]              --\n",
       "│    └─MyEncodeCNN: 2-1                  --                        3,445,504\n",
       "│    │    └─Sequential: 3-1              [1, 16, 30, 98]           160\n",
       "│    │    └─Sequential: 3-2              [1, 32, 26, 94]           12,832\n",
       "│    │    └─Sequential: 3-3              [1, 64, 22, 90]           51,264\n",
       "│    │    └─Sequential: 3-4              [1, 128, 18, 86]          204,928\n",
       "│    └─MyEncodeCNN: 2-2                  --                        3,445,504\n",
       "│    │    └─Sequential: 3-5              [1, 16, 30, 98]           160\n",
       "│    │    └─Sequential: 3-6              [1, 32, 26, 94]           12,832\n",
       "│    │    └─Sequential: 3-7              [1, 64, 22, 90]           51,264\n",
       "│    │    └─Sequential: 3-8              [1, 128, 18, 86]          204,928\n",
       "│    └─MyEncodeLSTM: 2-3                 --                        --\n",
       "│    │    └─LSTM: 3-9                    [1, 86, 128]              2,557,952\n",
       "├─MyDecoder: 1-2                         [1, 3]                    --\n",
       "│    └─MyDecodeLSTM: 2-4                 --                        --\n",
       "│    │    └─LSTM: 3-10                   [1, 86, 128]              264,192\n",
       "│    └─MyDecodeFC: 2-5                   --                        4,097\n",
       "│    │    └─Sequential: 3-11             [1, 4096]                 17,309,696\n",
       "│    │    └─Sequential: 3-12             [1, 3]                    12,291\n",
       "==========================================================================================\n",
       "Total params: 27,577,604\n",
       "Trainable params: 27,577,604\n",
       "Non-trainable params: 0\n",
       "Total mult-adds (G): 1.16\n",
       "==========================================================================================\n",
       "Input size (MB): 0.07\n",
       "Forward/backward pass size (MB): 7.44\n",
       "Params size (MB): 82.73\n",
       "Estimated Total Size (MB): 90.25\n",
       "=========================================================================================="
      ]
     },
     "execution_count": 3,
     "metadata": {},
     "output_type": "execute_result"
    }
   ],
   "source": [
    "torch.cuda.get_device_name(0)\n",
    "m1 = mymodel.MyModel().to(torch.device(\"cuda:1\"))\n",
    "summary(m1, input_size=(2, 90, 100))"
   ]
  },
  {
   "cell_type": "code",
   "execution_count": 78,
   "id": "7bf80ebe-7cf9-47aa-8d39-373b76ae9835",
   "metadata": {},
   "outputs": [
    {
     "name": "stdout",
     "output_type": "stream",
     "text": [
      "['sid.npy', 'csi.npy', '.ipynb_checkpoints']\n"
     ]
    }
   ],
   "source": [
    "datadir = '../Dataset/0317make01/'\n",
    "print(os.listdir(datadir))"
   ]
  },
  {
   "cell_type": "code",
   "execution_count": 104,
   "id": "1f1c6ffd-9cc9-4b2b-8df8-25f41eb1994a",
   "metadata": {},
   "outputs": [
    {
     "name": "stdout",
     "output_type": "stream",
     "text": [
      "loaded\n",
      "(1500, 2, 90, 100) (1500,)\n",
      "1050 300 150\n",
      "1050 300 150\n"
     ]
    }
   ],
   "source": [
    "mydata = TP.MyDataset(datadir + 'csi.npy', datadir + 'sid.npy')\n",
    "print(mydata.data['x'].shape, mydata.data['y'].shape)\n",
    "\n",
    "train_size = int(len(mydata) * 0.7)\n",
    "valid_size = int(len(mydata) * 0.2)\n",
    "test_size = int(len(mydata)) - train_size - valid_size\n",
    "print(train_size, valid_size, test_size)\n",
    "\n",
    "train_loader, valid_loader, test_loader = TP.split_loader(mydata, train_size, valid_size, test_size, 8)"
   ]
  },
  {
   "cell_type": "code",
   "execution_count": 58,
   "id": "06052fb8-5645-4cd8-bb8b-93ad32374fd1",
   "metadata": {},
   "outputs": [],
   "source": [
    "# Hyperparameters\n",
    "args = TP.MyArgs(cuda=1, epochs=100, learning_rate=0.001, criterion=nn.CrossEntropyLoss())"
   ]
  },
  {
   "cell_type": "code",
   "execution_count": 119,
   "id": "baa41d85-8b1a-450c-a44c-f7ee401c8dd1",
   "metadata": {},
   "outputs": [],
   "source": [
    "# Model and Loss\n",
    "model = mymodel.MyModel().to(args.device)\n",
    "optimizer = torch.optim.Adam\n",
    "\n",
    "trainer = TP.Trainer(model, args, \n",
    "                     train_loader, valid_loader, test_loader, optimizer)"
   ]
  },
  {
   "cell_type": "code",
   "execution_count": 118,
   "id": "13be17ec-ff6d-4398-b322-6939491430dc",
   "metadata": {},
   "outputs": [],
   "source": [
    "# When changing learning rate\n",
    "args = TP.MyArgs(cuda=1, epochs=100, learning_rate=0.0001, criterion=nn.CrossEntropyLoss())\n",
    "trainer.args = args"
   ]
  },
  {
   "cell_type": "code",
   "execution_count": 120,
   "id": "2481008b-4cdf-4476-a960-749fc65aa02b",
   "metadata": {},
   "outputs": [
    {
     "name": "stdout",
     "output_type": "stream",
     "text": [
      "epoch=99/100,130/131of train, loss=0.01160305669237e-0888\n",
      "Total training time: 657.9833607673645 sec\n"
     ]
    }
   ],
   "source": [
    "# Training and Saving\n",
    "trainer.train_and_eval()"
   ]
  },
  {
   "cell_type": "code",
   "execution_count": 121,
   "id": "5c99ccb9-2b07-4f53-bc14-59fffe8a479b",
   "metadata": {},
   "outputs": [
    {
     "data": {
      "image/png": "[encoded data removed]",
      "text/plain": [
       "<Figure size 432x288 with 2 Axes>"
      ]
     },
     "metadata": {
      "needs_background": "light"
     },
     "output_type": "display_data"
    }
   ],
   "source": [
    "# Plot loss curves\n",
    "%matplotlib inline\n",
    "trainer.plot_loss()"
   ]
  },
  {
   "cell_type": "code",
   "execution_count": 122,
   "id": "3f292940-9bfb-4061-b7c8-fa5b50b45ef8",
   "metadata": {},
   "outputs": [
    {
     "name": "stdout",
     "output_type": "stream",
     "text": [
      "120/150of test, loss=0.08370445162873e-07"
     ]
    }
   ],
   "source": [
    "  #=====================test============================\n",
    "trainer.test()"
   ]
  },
  {
   "cell_type": "code",
   "execution_count": 123,
   "id": "08aa820f-9ea2-4152-9793-77db5210a7bb",
   "metadata": {},
   "outputs": [
    {
     "data": {
      "image/png": "[encoded data removed]",
      "text/plain": [
       "<Figure size 432x288 with 2 Axes>"
      ]
     },
     "metadata": {},
     "output_type": "display_data"
    }
   ],
   "source": [
    "%matplotlib inline\n",
    "\n",
    "def fromonehot(inlist):\n",
    "    out = []\n",
    "    for item in inlist:\n",
    "        if np.argmax(item) == 0:\n",
    "            out.append(0)\n",
    "        elif np.argmax(item) == 1:\n",
    "            out.append(1)\n",
    "        elif np.argmax(item) == 2:\n",
    "            out.append(2)\n",
    "    return out\n",
    "\n",
    "trainer.plot_test_results()"
   ]
  },
  {
   "cell_type": "code",
   "execution_count": 124,
   "id": "407c8b4d-34c2-49d6-a71f-7f9318b996a9",
   "metadata": {},
   "outputs": [],
   "source": [
    "torch.save(trainer.model.state_dict(),\n",
    "           '../Models/v01b3+0317make01+ep100.pth')"
   ]
  },
  {
   "cell_type": "code",
   "execution_count": null,
   "id": "93558eac-a608-4003-9e93-b09a90f699e2",
   "metadata": {},
   "outputs": [],
   "source": []
  }
 ],
 "metadata": {
  "kernelspec": {
   "display_name": "Python 3",
   "language": "python",
   "name": "python3"
  },
  "language_info": {
   "codemirror_mode": {
    "name": "ipython",
    "version": 3
   },
   "file_extension": ".py",
   "mimetype": "text/x-python",
   "name": "python",
   "nbconvert_exporter": "python",
   "pygments_lexer": "ipython3",
   "version": "3.8.8"
  }
 },
 "nbformat": 4,
 "nbformat_minor": 5
}
