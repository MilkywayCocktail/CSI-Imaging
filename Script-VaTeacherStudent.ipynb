{
 "cells": [
  {
   "cell_type": "code",
   "execution_count": 1,
   "id": "46e4d312-8e4c-4696-81fe-2f3b91645394",
   "metadata": {
    "tags": []
   },
   "outputs": [],
   "source": [
    "# Imports\n",
    "# !pip install torchinfo\n",
    "import torch\n",
    "import torch.nn as nn\n",
    "import torch.utils.data as Data\n",
    "from torchinfo import summary\n",
    "import matplotlib.pyplot as plt\n",
    "import numpy as np\n",
    "import random\n",
    "import os\n",
    "import time\n",
    "import TrainerVTS as TP"
   ]
  },
  {
   "cell_type": "code",
   "execution_count": 2,
   "id": "7e04b3ac-c5e3-4e5a-99dd-df38a5afab0f",
   "metadata": {
    "tags": []
   },
   "outputs": [],
   "source": [
    "import model_v03a1 as mymodel"
   ]
  },
  {
   "cell_type": "markdown",
   "id": "6833a2a9-3d82-4176-9822-443ed440ebc3",
   "metadata": {
    "tags": []
   },
   "source": [
    "## Network structures"
   ]
  },
  {
   "cell_type": "code",
   "execution_count": 3,
   "id": "f4502ecc-81ff-4973-94d7-6ec7c77ce717",
   "metadata": {
    "collapsed": true,
    "jupyter": {
     "outputs_hidden": true
    },
    "tags": []
   },
   "outputs": [
    {
     "data": {
      "text/plain": [
       "==========================================================================================\n",
       "Layer (type:depth-idx)                   Output Shape              Param #\n",
       "==========================================================================================\n",
       "ImageEncoder                             [1, 256]                  --\n",
       "├─Sequential: 1-1                        [1, 16, 64, 64]           --\n",
       "│    └─Conv2d: 2-1                       [1, 16, 128, 128]         160\n",
       "│    └─LeakyReLU: 2-2                    [1, 16, 128, 128]         --\n",
       "│    └─MaxPool2d: 2-3                    [1, 16, 64, 64]           --\n",
       "├─Sequential: 1-2                        [1, 32, 32, 32]           --\n",
       "│    └─Conv2d: 2-4                       [1, 32, 64, 64]           4,640\n",
       "│    └─LeakyReLU: 2-5                    [1, 32, 64, 64]           --\n",
       "│    └─MaxPool2d: 2-6                    [1, 32, 32, 32]           --\n",
       "├─Sequential: 1-3                        [1, 64, 16, 16]           --\n",
       "│    └─Conv2d: 2-7                       [1, 64, 32, 32]           18,496\n",
       "│    └─LeakyReLU: 2-8                    [1, 64, 32, 32]           --\n",
       "│    └─MaxPool2d: 2-9                    [1, 64, 16, 16]           --\n",
       "├─Sequential: 1-4                        [1, 128, 8, 8]            --\n",
       "│    └─Conv2d: 2-10                      [1, 128, 16, 16]          73,856\n",
       "│    └─LeakyReLU: 2-11                   [1, 128, 16, 16]          --\n",
       "│    └─MaxPool2d: 2-12                   [1, 128, 8, 8]            --\n",
       "├─Sequential: 1-5                        [1, 256, 4, 4]            --\n",
       "│    └─Conv2d: 2-13                      [1, 256, 8, 8]            295,168\n",
       "│    └─LeakyReLU: 2-14                   [1, 256, 8, 8]            --\n",
       "│    └─MaxPool2d: 2-15                   [1, 256, 4, 4]            --\n",
       "├─Sequential: 1-6                        [1, 256]                  --\n",
       "│    └─Linear: 2-16                      [1, 4096]                 16,781,312\n",
       "│    └─ReLU: 2-17                        [1, 4096]                 --\n",
       "│    └─Linear: 2-18                      [1, 256]                  1,048,832\n",
       "│    └─ReLU: 2-19                        [1, 256]                  --\n",
       "==========================================================================================\n",
       "Total params: 18,222,464\n",
       "Trainable params: 18,222,464\n",
       "Non-trainable params: 0\n",
       "Total mult-adds (M): 96.19\n",
       "==========================================================================================\n",
       "Input size (MB): 0.07\n",
       "Forward/backward pass size (MB): 4.10\n",
       "Params size (MB): 72.89\n",
       "Estimated Total Size (MB): 77.05\n",
       "=========================================================================================="
      ]
     },
     "execution_count": 3,
     "metadata": {},
     "output_type": "execute_result"
    }
   ],
   "source": [
    "m1 = mymodel.ImageEncoder()\n",
    "summary(m1, input_size=(1, 1, 128, 128))"
   ]
  },
  {
   "cell_type": "code",
   "execution_count": 4,
   "id": "9e5756d1-cbbf-4046-9b16-03decb6e5bb9",
   "metadata": {
    "collapsed": true,
    "jupyter": {
     "outputs_hidden": true
    },
    "tags": []
   },
   "outputs": [
    {
     "data": {
      "text/plain": [
       "==========================================================================================\n",
       "Layer (type:depth-idx)                   Output Shape              Param #\n",
       "==========================================================================================\n",
       "ImageDecoder                             [1, 1, 128, 128]          --\n",
       "├─Sequential: 1-1                        [1, 256]                  --\n",
       "│    └─Linear: 2-1                       [1, 4096]                 1,052,672\n",
       "│    └─ReLU: 2-2                         [1, 4096]                 --\n",
       "│    └─Linear: 2-3                       [1, 256]                  1,048,832\n",
       "│    └─ReLU: 2-4                         [1, 256]                  --\n",
       "├─Sequential: 1-2                        [1, 64, 32, 32]           --\n",
       "│    └─ConvTranspose2d: 2-5              [1, 64, 32, 32]           1,088\n",
       "│    └─LeakyReLU: 2-6                    [1, 64, 32, 32]           --\n",
       "├─Sequential: 1-3                        [1, 32, 64, 64]           --\n",
       "│    └─ConvTranspose2d: 2-7              [1, 32, 64, 64]           32,800\n",
       "│    └─LeakyReLU: 2-8                    [1, 32, 64, 64]           --\n",
       "├─Sequential: 1-4                        [1, 1, 128, 128]          --\n",
       "│    └─ConvTranspose2d: 2-9              [1, 1, 128, 128]          513\n",
       "│    └─LeakyReLU: 2-10                   [1, 1, 128, 128]          --\n",
       "==========================================================================================\n",
       "Total params: 2,135,905\n",
       "Trainable params: 2,135,905\n",
       "Non-trainable params: 0\n",
       "Total mult-adds (M): 145.97\n",
       "==========================================================================================\n",
       "Input size (MB): 0.00\n",
       "Forward/backward pass size (MB): 1.74\n",
       "Params size (MB): 8.54\n",
       "Estimated Total Size (MB): 10.28\n",
       "=========================================================================================="
      ]
     },
     "execution_count": 4,
     "metadata": {},
     "output_type": "execute_result"
    }
   ],
   "source": [
    "m2 = mymodel.ImageDecoder()\n",
    "summary(m2, input_size=(1, 256))"
   ]
  },
  {
   "cell_type": "code",
   "execution_count": 5,
   "id": "e6b0b954-e737-4863-bc29-7db0cfdeae38",
   "metadata": {
    "collapsed": true,
    "jupyter": {
     "outputs_hidden": true
    },
    "tags": []
   },
   "outputs": [
    {
     "data": {
      "text/plain": [
       "==========================================================================================\n",
       "Layer (type:depth-idx)                   Output Shape              Param #\n",
       "==========================================================================================\n",
       "CsiEncoder                               [1, 256]                  353,374,464\n",
       "├─Sequential: 1-1                        [1, 16, 30, 98]           --\n",
       "│    └─Conv2d: 2-1                       [1, 16, 30, 98]           160\n",
       "│    └─LeakyReLU: 2-2                    [1, 16, 30, 98]           --\n",
       "├─Sequential: 1-2                        [1, 32, 14, 48]           --\n",
       "│    └─Conv2d: 2-3                       [1, 32, 14, 48]           4,640\n",
       "│    └─LeakyReLU: 2-4                    [1, 32, 14, 48]           --\n",
       "├─Sequential: 1-3                        [1, 64, 12, 46]           --\n",
       "│    └─Conv2d: 2-5                       [1, 64, 12, 46]           18,496\n",
       "│    └─LeakyReLU: 2-6                    [1, 64, 12, 46]           --\n",
       "├─Sequential: 1-4                        [1, 128, 10, 44]          --\n",
       "│    └─Conv2d: 2-7                       [1, 128, 10, 44]          73,856\n",
       "│    └─LeakyReLU: 2-8                    [1, 128, 10, 44]          --\n",
       "├─Sequential: 1-5                        [1, 256, 8, 42]           --\n",
       "│    └─Conv2d: 2-9                       [1, 256, 8, 42]           295,168\n",
       "│    └─LeakyReLU: 2-10                   [1, 256, 8, 42]           --\n",
       "├─Sequential: 1-6                        [1, 16, 30, 98]           (recursive)\n",
       "│    └─Conv2d: 2-11                      [1, 16, 30, 98]           (recursive)\n",
       "│    └─LeakyReLU: 2-12                   [1, 16, 30, 98]           --\n",
       "├─Sequential: 1-7                        [1, 32, 14, 48]           (recursive)\n",
       "│    └─Conv2d: 2-13                      [1, 32, 14, 48]           (recursive)\n",
       "│    └─LeakyReLU: 2-14                   [1, 32, 14, 48]           --\n",
       "├─Sequential: 1-8                        [1, 64, 12, 46]           (recursive)\n",
       "│    └─Conv2d: 2-15                      [1, 64, 12, 46]           (recursive)\n",
       "│    └─LeakyReLU: 2-16                   [1, 64, 12, 46]           --\n",
       "├─Sequential: 1-9                        [1, 128, 10, 44]          (recursive)\n",
       "│    └─Conv2d: 2-17                      [1, 128, 10, 44]          (recursive)\n",
       "│    └─LeakyReLU: 2-18                   [1, 128, 10, 44]          --\n",
       "├─Sequential: 1-10                       [1, 256, 8, 42]           (recursive)\n",
       "│    └─Conv2d: 2-19                      [1, 256, 8, 42]           (recursive)\n",
       "│    └─LeakyReLU: 2-20                   [1, 256, 8, 42]           --\n",
       "├─Sequential: 1-11                       --                        --\n",
       "│    └─LSTM: 2-21                        [1, 336, 256]             1,314,816\n",
       "==========================================================================================\n",
       "Total params: 355,081,600\n",
       "Trainable params: 355,081,600\n",
       "Non-trainable params: 0\n",
       "Total mult-adds (M): 732.72\n",
       "==========================================================================================\n",
       "Input size (MB): 0.07\n",
       "Forward/backward pass size (MB): 2.66\n",
       "Params size (MB): 6.83\n",
       "Estimated Total Size (MB): 9.56\n",
       "=========================================================================================="
      ]
     },
     "execution_count": 5,
     "metadata": {},
     "output_type": "execute_result"
    }
   ],
   "source": [
    "m3 = mymodel.CsiEncoder()\n",
    "summary(m3, input_size=(2, 90, 100))"
   ]
  },
  {
   "cell_type": "markdown",
   "id": "95c59034-15cf-4da3-ba51-f4608be45807",
   "metadata": {},
   "source": [
    "## Loader"
   ]
  },
  {
   "cell_type": "code",
   "execution_count": 3,
   "id": "7bf80ebe-7cf9-47aa-8d39-373b76ae9835",
   "metadata": {
    "tags": []
   },
   "outputs": [
    {
     "name": "stdout",
     "output_type": "stream",
     "text": [
      "['csi.npy', 'img.npy']\n"
     ]
    }
   ],
   "source": [
    "datadir = '../Dataset/0307make06/'\n",
    "print(os.listdir(datadir))"
   ]
  },
  {
   "cell_type": "code",
   "execution_count": 4,
   "id": "1f1c6ffd-9cc9-4b2b-8df8-25f41eb1994a",
   "metadata": {
    "tags": []
   },
   "outputs": [
    {
     "name": "stdout",
     "output_type": "stream",
     "text": [
      "loaded\n",
      "(7638, 2, 90, 100) (7638, 1, 128, 128)\n",
      "5346 1527 765\n",
      "5346 1527 765\n"
     ]
    }
   ],
   "source": [
    "mydata = TP.MyDataset(datadir + 'csi.npy', datadir + 'img.npy')\n",
    "print(mydata.data['x'].shape, mydata.data['y'].shape)\n",
    "\n",
    "train_size = int(len(mydata) * 0.7)\n",
    "valid_size = int(len(mydata) * 0.2)\n",
    "test_size = int(len(mydata)) - train_size - valid_size\n",
    "print(train_size, valid_size, test_size)\n",
    "\n",
    "train_loader, valid_loader, test_loader = TP.split_loader(mydata, train_size, valid_size, test_size, 8)"
   ]
  },
  {
   "cell_type": "code",
   "execution_count": 5,
   "id": "06052fb8-5645-4cd8-bb8b-93ad32374fd1",
   "metadata": {
    "tags": []
   },
   "outputs": [],
   "source": [
    "# Hyperparameters\n",
    "t_args = TP.MyArgs(cuda=1, epochs=300, learning_rate=1e-5, criterion=nn.SmoothL1Loss())\n",
    "s_args = TP.MyArgs(cuda=1, epochs=100, learning_rate=1e-5, criterion=nn.SmoothL1Loss())"
   ]
  },
  {
   "cell_type": "code",
   "execution_count": 6,
   "id": "baa41d85-8b1a-450c-a44c-f7ee401c8dd1",
   "metadata": {
    "tags": []
   },
   "outputs": [],
   "source": [
    "# Model and Loss\n",
    "imgencoder = mymodel.ImageEncoder(batchnorm=True).to(t_args.device)\n",
    "imgdecoder = mymodel.ImageDecoder().to(t_args.device)\n",
    "csiencoder = mymodel.CsiEncoder(batchnorm=False).to(t_args.device)\n",
    "optimizer = torch.optim.Adam\n",
    "\n",
    "trainer = TP.TrainerVariationalTS(img_encoder=imgencoder, img_decoder=imgdecoder, csi_encoder=csiencoder,\n",
    "                                   teacher_args=t_args, student_args=s_args, \n",
    "                                   train_loader=train_loader, valid_loader=valid_loader, test_loader=test_loader,\n",
    "                                   optimizer=optimizer, temperature=1, latent_dim=8)"
   ]
  },
  {
   "cell_type": "code",
   "execution_count": 10,
   "id": "aea1b397-3b99-4155-996a-dacce181cb3e",
   "metadata": {
    "tags": []
   },
   "outputs": [
    {
     "data": {
      "text/plain": [
       "<All keys matched successfully>"
      ]
     },
     "execution_count": 10,
     "metadata": {},
     "output_type": "execute_result"
    }
   ],
   "source": [
    "# Load from checkpoints\n",
    "trainer.toal_epochs=0\n",
    "imgencoder.load_state_dict(torch.load('../Models/ImgEn_Model_v02a1_ImgEn_Fc_0307_tep1200.pth'))\n",
    "imgdecoder.load_state_dict(torch.load('../Models/ImgDe_Model_v02a1_ImgDe_FC_0307_tep1200.pth'))\n",
    "csiencoder.load_state_dict(torch.load('../Models/CSIEn_Model_v02a1_CsiEn_Last_0307_tep1200_sep700.pth'))"
   ]
  },
  {
   "cell_type": "code",
   "execution_count": 12,
   "id": "13be17ec-ff6d-4398-b322-6939491430dc",
   "metadata": {
    "tags": []
   },
   "outputs": [],
   "source": [
    "# When changing learning rate\n",
    "t_args = TP.MyArgs(cuda=1, epochs=300, learning_rate=1e-6, criterion=nn.SmoothL1Loss())\n",
    "s_args = TP.MyArgs(cuda=1, epochs=100, learning_rate=1e-7, criterion=nn.SmoothL1Loss())\n",
    "trainer.teacher_args = t_args\n",
    "trainer.student_args = s_args"
   ]
  },
  {
   "cell_type": "code",
   "execution_count": null,
   "id": "2481008b-4cdf-4476-a960-749fc65aa02b",
   "metadata": {
    "tags": []
   },
   "outputs": [
    {
     "name": "stdout",
     "output_type": "stream",
     "text": [
      "Teacher: epoch=159/300,0/668of train, loss=139.0471496582031282"
     ]
    }
   ],
   "source": [
    "# Training and Saving\n",
    "trainer.train_teacher()"
   ]
  },
  {
   "cell_type": "code",
   "execution_count": null,
   "id": "5c99ccb9-2b07-4f53-bc14-59fffe8a479b",
   "metadata": {
    "tags": []
   },
   "outputs": [],
   "source": [
    "# Plot loss curves\n",
    "%matplotlib inline\n",
    "trainer.plot_teacher_loss()"
   ]
  },
  {
   "cell_type": "code",
   "execution_count": null,
   "id": "3f292940-9bfb-4061-b7c8-fa5b50b45ef8",
   "metadata": {
    "tags": []
   },
   "outputs": [],
   "source": [
    "  #=====================test============================\n",
    "trainer.test_teacher(mode='test')"
   ]
  },
  {
   "cell_type": "code",
   "execution_count": null,
   "id": "08aa820f-9ea2-4152-9793-77db5210a7bb",
   "metadata": {
    "tags": []
   },
   "outputs": [],
   "source": [
    "%matplotlib inline\n",
    "trainer.plot_teacher_test()"
   ]
  },
  {
   "cell_type": "code",
   "execution_count": null,
   "id": "407c8b4d-34c2-49d6-a71f-7f9318b996a9",
   "metadata": {
    "tags": []
   },
   "outputs": [],
   "source": [
    "# Training and Saving\n",
    "trainer.train_student()"
   ]
  },
  {
   "cell_type": "code",
   "execution_count": null,
   "id": "93558eac-a608-4003-9e93-b09a90f699e2",
   "metadata": {
    "tags": []
   },
   "outputs": [],
   "source": [
    "# Plot loss curves\n",
    "%matplotlib inline\n",
    "trainer.plot_student_loss()"
   ]
  },
  {
   "cell_type": "code",
   "execution_count": null,
   "id": "61a8a46e-7a4e-4b88-9708-cc4577322384",
   "metadata": {
    "tags": []
   },
   "outputs": [],
   "source": [
    "  #=====================test============================\n",
    "trainer.test_student()"
   ]
  },
  {
   "cell_type": "code",
   "execution_count": null,
   "id": "cd9d4304-4b08-48e4-a61b-229bb860eb54",
   "metadata": {
    "tags": []
   },
   "outputs": [],
   "source": [
    "# Final outputs\n",
    "%matplotlib inline\n",
    "trainer.plot_student_test()"
   ]
  },
  {
   "cell_type": "code",
   "execution_count": 33,
   "id": "f67554d0-8433-4878-ab9d-dc03af0a80a7",
   "metadata": {
    "tags": []
   },
   "outputs": [],
   "source": [
    "notion = '_0307'\n",
    "torch.save(trainer.csi_encoder.state_dict(),\n",
    "           '../Models/CSIEn_' + str(trainer.csi_encoder) + notion + '_tep' + str(trainer.teacher_epochs) +\n",
    "           '_sep' + str(trainer.student_epochs) + '.pth')"
   ]
  },
  {
   "cell_type": "code",
   "execution_count": null,
   "id": "60f15876-53ee-4c3d-a282-db7581cadcc3",
   "metadata": {},
   "outputs": [],
   "source": []
  }
 ],
 "metadata": {
  "kernelspec": {
   "display_name": "Python 3 (ipykernel)",
   "language": "python",
   "name": "python3"
  },
  "language_info": {
   "codemirror_mode": {
    "name": "ipython",
    "version": 3
   },
   "file_extension": ".py",
   "mimetype": "text/x-python",
   "name": "python",
   "nbconvert_exporter": "python",
   "pygments_lexer": "ipython3",
   "version": "3.7.11"
  }
 },
 "nbformat": 4,
 "nbformat_minor": 5
}
