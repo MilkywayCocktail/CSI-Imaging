{
 "cells": [
  {
   "cell_type": "markdown",
   "metadata": {
    "id": "ozVSXkfVnttc"
   },
   "source": [
    "# Model1 CNN+LSTM\n",
    "version 0.1.(a).1"
   ]
  },
  {
   "cell_type": "markdown",
   "metadata": {
    "id": "7vcLcTthG3-3"
   },
   "source": [
    "## Implementation detals\n",
    "- Input size: -1 x 2 x 90 x 33\n",
    "- Output size: -1 x 3\n",
    "<br></br>\n",
    "- X: CSI (magnitude + phase)\n",
    "- Y: (x, y, d) of center point of mask\n",
    "## Version Info\n",
    "- Mapping from CSI to subject's center point coordinates\n",
    "- Removed Decoder part\n",
    "- Ablation: w/wo Encoder LSTM\n",
    "- Rewrote downside convolution"
   ]
  },
  {
   "cell_type": "code",
   "execution_count": 1,
   "metadata": {
    "colab": {
     "base_uri": "https://localhost:8080/"
    },
    "executionInfo": {
     "elapsed": 7645,
     "status": "ok",
     "timestamp": 1671664006567,
     "user": {
      "displayName": "曹冠宇",
      "userId": "04420153168815849534"
     },
     "user_tz": -540
    },
    "id": "Ruor2R1Gn000",
    "outputId": "ef6b4f9c-e0c9-492d-cf54-51c7b279b709"
   },
   "outputs": [],
   "source": [
    "# Imports\n",
    "# !pip install torchinfo\n",
    "import torch\n",
    "import torch.nn as nn\n",
    "import torch.utils.data as Data\n",
    "import torchvision\n",
    "from torchinfo import summary\n",
    "import matplotlib.pyplot as plt\n",
    "import numpy as np\n",
    "import random\n",
    "import os\n",
    "import time"
   ]
  },
  {
   "cell_type": "markdown",
   "metadata": {
    "id": "rnZopCypFbgq"
   },
   "source": [
    "## Model"
   ]
  },
  {
   "cell_type": "code",
   "execution_count": 2,
   "metadata": {
    "id": "zNGMVyA-KvTt"
   },
   "outputs": [],
   "source": [
    "# Model\n",
    "# input_size = (30 * 3) * 33\n",
    "# mid_size = 128 * 1\n",
    "# output_size = 200 * 120\n",
    "\n",
    "class MyEncodeCNN(nn.Module):\n",
    "    def __init__(self):\n",
    "        super(MyEncodeCNN, self).__init__()\n",
    "\n",
    "        self.layer1 = nn.Sequential(\n",
    "            nn.Conv2d(1, 32, kernel_size=3, stride=(3, 1), padding=0),\n",
    "            nn.BatchNorm2d(32),\n",
    "            nn.LeakyReLU(inplace=True),\n",
    "            # No Padding\n",
    "            # No Pooling\n",
    "            # In = 90 * 33 * 1\n",
    "            # Out = 30 * 31 * 32\n",
    "        )\n",
    "\n",
    "        self.layer2 = nn.Sequential(\n",
    "            nn.Conv2d(32, 32, kernel_size=3, stride=(1, 1), padding=0),\n",
    "            nn.BatchNorm2d(32),\n",
    "            nn.LeakyReLU(inplace=True),\n",
    "            # No Padding\n",
    "            # No Pooling\n",
    "            # In = 30 * 31 * 32\n",
    "            # Out = 28 * 29 * 32\n",
    "        )\n",
    "\n",
    "        self.layer3 = nn.Sequential(\n",
    "            nn.Conv2d(32, 64, kernel_size=3, stride=(1, 1), padding=0),\n",
    "            nn.BatchNorm2d(64),\n",
    "            nn.LeakyReLU(inplace=True),\n",
    "            # No Padding\n",
    "            # No Pooling\n",
    "            # In = 28 * 29 * 32\n",
    "            # Out = 26 * 27 * 64\n",
    "        )\n",
    "\n",
    "        self.layer4 = nn.Sequential(\n",
    "            nn.Conv2d(64, 64, kernel_size=3, stride=(1, 1), padding=0),\n",
    "            nn.BatchNorm2d(64),\n",
    "            nn.LeakyReLU(inplace=True),\n",
    "            # No Padding\n",
    "            # No Pooling\n",
    "            # In = 26 * 27 * 64\n",
    "            # Out = 24 * 25 * 64\n",
    "        )\n",
    "        \n",
    "        self.layer5 = nn.Sequential(\n",
    "            nn.Conv2d(64, 128, kernel_size=3, stride=(1, 1), padding=0),\n",
    "            nn.BatchNorm2d(128),\n",
    "            nn.LeakyReLU(inplace=True),\n",
    "            # No Padding\n",
    "            # No Pooling\n",
    "            # In = 24 * 25 * 64\n",
    "            # Out = 22 * 23 * 128\n",
    "        )\n",
    "            \n",
    "        self.layer6 = nn.Sequential(\n",
    "            nn.Conv2d(128, 128, kernel_size=3, stride=(1, 1), padding=0),\n",
    "            nn.BatchNorm2d(128),\n",
    "            nn.LeakyReLU(inplace=True),\n",
    "            # No Padding\n",
    "            # No Pooling\n",
    "            # In = 22 * 23 * 128\n",
    "            # Out = 20 * 21 * 128\n",
    "        )\n",
    "        \n",
    "        self.layerfc = nn.Sequential(\n",
    "            nn.Linear(20 * 21 * 128, 4096),\n",
    "            nn.ReLU(inplace=True),\n",
    "            nn.Linear(4096, 4096),\n",
    "            nn.ReLU(inplace=True),\n",
    "            nn.Linear(4096, 1024)\n",
    "        )\n",
    "\n",
    "    def forward(self, x):\n",
    "        x = self.layer1(x)\n",
    "        x = self.layer2(x)\n",
    "        x = self.layer3(x)\n",
    "        x = self.layer4(x)\n",
    "        x = self.layer5(x)\n",
    "        x = self.layer6(x)\n",
    "        x = self.layerfc(x.view(-1, 20 * 21 * 128))\n",
    "\n",
    "        # size_x = batch_size * 16 * 17\n",
    "        # x = self.dropout(x)\n",
    "        # x = self.layerfc(x)\n",
    "        return x\n",
    "\n",
    "\n",
    "class MyEncodeLSTM(nn.Module):\n",
    "    def __init__(self):\n",
    "        super(MyEncodeLSTM, self).__init__()\n",
    "\n",
    "        self.hidden_size = 128\n",
    "        self.num_layers = 2\n",
    "\n",
    "        self.layer = nn.LSTM(36, self.hidden_size, self.num_layers, batch_first=True, dropout=0.1)\n",
    "\n",
    "    def forward(self, x):\n",
    "        out, (final_hidden_state, final_cell_state)  = self.layer(x)\n",
    "        return out[:, -1, :]  \n",
    "\n",
    "\n",
    "class MyEncoder_1(nn.Module):\n",
    "    def __init__(self):\n",
    "        super(MyEncoder_1, self).__init__()\n",
    "\n",
    "        self.cnn1 = MyEncodeCNN()\n",
    "        self.cnn2 = MyEncodeCNN()\n",
    "        self.lstm = MyEncodeLSTM()\n",
    "        \n",
    "        self.layerfc = nn.Sequential(\n",
    "            nn.Linear(128, 64),\n",
    "            nn.ReLU(inplace=True),\n",
    "            nn.Linear(64, 16),\n",
    "            nn.ReLU(inplace=True),\n",
    "            nn.Linear(16, 3)\n",
    "        )\n",
    "\n",
    "        self.dropout = nn.Dropout(p=0.5)\n",
    "\n",
    "    def forward(self, x):\n",
    "        x = torch.chunk(x, 2, dim=0)\n",
    "        x1 = self.cnn1.forward(x[0].view(-1, 1, 90, 33))\n",
    "        x2 = self.cnn2.forward(x[1].view(-1, 1, 90, 33))\n",
    "\n",
    "        # size_x = batch_size * 18 * 19\n",
    "\n",
    "        x = torch.cat([x1, x2], dim=2).transpose(1, 2).view(-1, 19, 36)\n",
    "        # size_x = batch_size * 36  * 19\n",
    "\n",
    "        x = self.lstm.forward(x)\n",
    "        x = self.dropout(x)\n",
    "        x = self.layerfc(x)\n",
    "        \n",
    "        return x\n",
    "    \n",
    "    \n",
    "class MyEncoder_2(nn.Module):\n",
    "    def __init__(self):\n",
    "        super(MyEncoder_2, self).__init__()\n",
    "\n",
    "        self.cnn1 = MyEncodeCNN()\n",
    "        self.cnn2 = MyEncodeCNN()\n",
    "        \n",
    "        self.layerfc = nn.Sequential(\n",
    "            nn.Linear(2048, 1024),\n",
    "            nn.ReLU(inplace=True),\n",
    "            nn.Linear(1024, 1024),\n",
    "            nn.ReLU(inplace=True),\n",
    "            nn.Linear(1024, 3)\n",
    "        )\n",
    "\n",
    "        self.dropout = nn.Dropout(p=0.5)\n",
    "\n",
    "    def forward(self, x):\n",
    "        x = torch.chunk(x, 2, dim=0)\n",
    "        x1 = self.cnn1.forward(x[0].view(-1, 1, 90, 33))\n",
    "        x2 = self.cnn2.forward(x[1].view(-1, 1, 90, 33))\n",
    "\n",
    "        # size_x = batch_size * 1024\n",
    "        \n",
    "        x = torch.cat([x1, x2], dim=1)\n",
    "        # size_x = batch_size * 2048\n",
    "\n",
    "        x = self.dropout(x)\n",
    "        x = self.layerfc(x)\n",
    "        \n",
    "        return x\n",
    "    \n",
    "\n",
    "class MyModel(nn.Module):\n",
    "    def __init__(self):\n",
    "        super(MyModel, self).__init__()\n",
    "\n",
    "        self.encoder = MyEncoder_2()\n",
    "\n",
    "    def forward(self, x):\n",
    "        z = self.encoder(x)\n",
    "        return z"
   ]
  },
  {
   "cell_type": "code",
   "execution_count": 3,
   "metadata": {
    "colab": {
     "base_uri": "https://localhost:8080/"
    },
    "executionInfo": {
     "elapsed": 270,
     "status": "ok",
     "timestamp": 1671636390748,
     "user": {
      "displayName": "曹冠宇",
      "userId": "04420153168815849534"
     },
     "user_tz": -540
    },
    "id": "C7tCrrQqvV3i",
    "outputId": "55705461-a3cc-4596-de22-348c04d96e2d"
   },
   "outputs": [
    {
     "data": {
      "text/plain": [
       "==========================================================================================\n",
       "Layer (type:depth-idx)                   Output Shape              Param #\n",
       "==========================================================================================\n",
       "MyModel                                  [1, 3]                    --\n",
       "├─MyEncoder_2: 1-1                       [1, 3]                    --\n",
       "│    └─MyEncodeCNN: 2-1                  --                        --\n",
       "│    │    └─Sequential: 3-1              [1, 32, 30, 31]           384\n",
       "│    │    └─Sequential: 3-2              [1, 32, 28, 29]           9,312\n",
       "│    │    └─Sequential: 3-3              [1, 64, 26, 27]           18,624\n",
       "│    │    └─Sequential: 3-4              [1, 64, 24, 25]           37,056\n",
       "│    │    └─Sequential: 3-5              [1, 128, 22, 23]          74,112\n",
       "│    │    └─Sequential: 3-6              [1, 128, 20, 21]          147,840\n",
       "│    │    └─Sequential: 3-7              [1, 1024]                 241,181,696\n",
       "│    └─MyEncodeCNN: 2-2                  --                        --\n",
       "│    │    └─Sequential: 3-8              [1, 32, 30, 31]           384\n",
       "│    │    └─Sequential: 3-9              [1, 32, 28, 29]           9,312\n",
       "│    │    └─Sequential: 3-10             [1, 64, 26, 27]           18,624\n",
       "│    │    └─Sequential: 3-11             [1, 64, 24, 25]           37,056\n",
       "│    │    └─Sequential: 3-12             [1, 128, 22, 23]          74,112\n",
       "│    │    └─Sequential: 3-13             [1, 128, 20, 21]          147,840\n",
       "│    │    └─Sequential: 3-14             [1, 1024]                 241,181,696\n",
       "│    └─Dropout: 2-3                      [1, 2048]                 --\n",
       "│    └─Sequential: 2-4                   [1, 3]                    --\n",
       "│    │    └─Linear: 3-15                 [1, 1024]                 2,098,176\n",
       "│    │    └─ReLU: 3-16                   [1, 1024]                 --\n",
       "│    │    └─Linear: 3-17                 [1, 1024]                 1,049,600\n",
       "│    │    └─ReLU: 3-18                   [1, 1024]                 --\n",
       "│    │    └─Linear: 3-19                 [1, 3]                    3,075\n",
       "==========================================================================================\n",
       "Total params: 486,088,899\n",
       "Trainable params: 486,088,899\n",
       "Non-trainable params: 0\n",
       "Total mult-adds (M): 770.12\n",
       "==========================================================================================\n",
       "Input size (MB): 0.02\n",
       "Forward/backward pass size (MB): 8.41\n",
       "Params size (MB): 1944.36\n",
       "Estimated Total Size (MB): 1952.79\n",
       "=========================================================================================="
      ]
     },
     "execution_count": 3,
     "metadata": {},
     "output_type": "execute_result"
    }
   ],
   "source": [
    "m1 = MyModel()\n",
    "summary(m1, input_size=(2, 90, 33))"
   ]
  },
  {
   "cell_type": "markdown",
   "metadata": {
    "id": "ZzNX5ISCFhBY"
   },
   "source": [
    "## Dataset"
   ]
  },
  {
   "cell_type": "code",
   "execution_count": 4,
   "metadata": {
    "colab": {
     "base_uri": "https://localhost:8080/"
    },
    "executionInfo": {
     "elapsed": 18918,
     "status": "ok",
     "timestamp": 1671664037687,
     "user": {
      "displayName": "曹冠宇",
      "userId": "04420153168815849534"
     },
     "user_tz": -540
    },
    "id": "3lkvH24vGZ8t",
    "outputId": "21098cf0-9111-4d5d-99f2-b9d453f6fe84"
   },
   "outputs": [
    {
     "name": "stdout",
     "output_type": "stream",
     "text": [
      "['y.npy', 't.npy', 'x.npy', '.ipynb_checkpoints']\n"
     ]
    }
   ],
   "source": [
    "datadir = '../Dataset/make01/'\n",
    "print(os.listdir(datadir))"
   ]
  },
  {
   "cell_type": "code",
   "execution_count": 6,
   "metadata": {
    "colab": {
     "base_uri": "https://localhost:8080/"
    },
    "executionInfo": {
     "elapsed": 10574,
     "status": "ok",
     "timestamp": 1671664054419,
     "user": {
      "displayName": "曹冠宇",
      "userId": "04420153168815849534"
     },
     "user_tz": -540
    },
    "id": "Qv4H17YcAR3I",
    "outputId": "43bbd323-54c0-47a3-e21e-3d2029ba7bf3"
   },
   "outputs": [
    {
     "name": "stdout",
     "output_type": "stream",
     "text": [
      "loaded\n",
      "2730 780 390\n",
      "683 195 98\n"
     ]
    }
   ],
   "source": [
    "# My Dataset\n",
    "\n",
    "class MyDataset(Data.Dataset):\n",
    "    def __init__(self, x_path, y_path, number=0):\n",
    "        self.seeds = None\n",
    "        self.data = self.load_data(x_path, y_path, number=number)\n",
    "        print('loaded')\n",
    "\n",
    "    def __getitem__(self, index):\n",
    "        return self.data['x'][index], self.data['y'][index]\n",
    "\n",
    "    def __len__(self):\n",
    "        return self.data['x'].shape[0]\n",
    "\n",
    "    def load_data(self, x_path, y_path, number):\n",
    "        x = np.load(x_path)\n",
    "        y = np.load(y_path)\n",
    "\n",
    "        if x.shape[0] == y.shape[0]:\n",
    "            total_count = x.shape[0]\n",
    "        else:\n",
    "            print(x.shape, y.shape, \"lengths not equal!\")\n",
    "            \n",
    "        if number > 0:\n",
    "            picked = np.random.choice(list(range(total_count)), size=number, replace=False)\n",
    "            self.seeds = picked\n",
    "            x = x[picked]\n",
    "            y = y[picked]\n",
    "\n",
    "        return {'x':x, 'y':y}\n",
    "    \n",
    "\n",
    "mydata = MyDataset(datadir + 'x.npy', datadir + 'y.npy')\n",
    "\n",
    "train_size = int(len(mydata) * 0.7)\n",
    "valid_size = int(len(mydata) * 0.2)\n",
    "test_size = int(len(mydata)) - train_size - valid_size\n",
    "train_dataset, valid_dataset, test_dataset = Data.random_split(mydata, [train_size, valid_size, test_size])\n",
    "print(train_size, valid_size, test_size)\n",
    "\n",
    "train_loader = Data.DataLoader(train_dataset, batch_size=4, shuffle=True)\n",
    "valid_loader = Data.DataLoader(valid_dataset, batch_size=4, shuffle=True)\n",
    "test_loader = Data.DataLoader(test_dataset, batch_size=4, shuffle=True)\n",
    "\n",
    "print(len(train_loader), len(valid_loader), len(test_loader))\n"
   ]
  },
  {
   "cell_type": "code",
   "execution_count": 7,
   "metadata": {
    "id": "6H9dFQc8LhN1"
   },
   "outputs": [
    {
     "name": "stdout",
     "output_type": "stream",
     "text": [
      "(3900, 2, 90, 33)\n",
      "(3900, 3)\n"
     ]
    }
   ],
   "source": [
    "print(mydata.data['x'].shape)\n",
    "print(mydata.data['y'].shape)"
   ]
  },
  {
   "cell_type": "code",
   "execution_count": 8,
   "metadata": {},
   "outputs": [
    {
     "data": {
      "text/plain": [
       "'GeForce GTX TITAN X'"
      ]
     },
     "execution_count": 8,
     "metadata": {},
     "output_type": "execute_result"
    }
   ],
   "source": [
    "torch.cuda.get_device_name(0)"
   ]
  },
  {
   "cell_type": "markdown",
   "metadata": {
    "id": "xy-67GwAFj5T"
   },
   "source": [
    "## Running gears"
   ]
  },
  {
   "cell_type": "code",
   "execution_count": 9,
   "metadata": {
    "id": "P5GAqZF5D3lL"
   },
   "outputs": [],
   "source": [
    "# Hyperparameters\n",
    "\n",
    "class MyArgs:\n",
    "    def __init__(self, epochs=10, learning_rate=0.001):\n",
    "        self.epochs = epochs\n",
    "        self.learning_rate = learning_rate\n",
    "        self.device = torch.device(\"cuda:5\" if torch.cuda.is_available() else \"cpu\")\n",
    "\n",
    "args = MyArgs(epochs=100, learning_rate=0.1)"
   ]
  },
  {
   "cell_type": "code",
   "execution_count": 10,
   "metadata": {
    "id": "lCvRd4pOFBzc"
   },
   "outputs": [],
   "source": [
    "# Model and Loss\n",
    "\n",
    "model = MyModel().to(args.device)\n",
    "\n",
    "criterion = torch.nn.SmoothL1Loss()\n",
    "optimizer = torch.optim.Adam(model.parameters(), lr=args.learning_rate)\n",
    "\n",
    "train_loss = []\n",
    "valid_loss = []\n",
    "train_epochs_loss = []\n",
    "valid_epochs_loss = []\n",
    "\n",
    "# early_stopping = EarlyStopping(patience=args.patience,verbose=True)"
   ]
  },
  {
   "cell_type": "code",
   "execution_count": 11,
   "metadata": {
    "colab": {
     "base_uri": "https://localhost:8080/"
    },
    "id": "UljtLCZzFR4P",
    "outputId": "02d3671f-7293-422f-de88-c0bd239043bf",
    "tags": []
   },
   "outputs": [
    {
     "name": "stdout",
     "output_type": "stream",
     "text": [
      "epoch=99/100,682/683of train, loss=125.39519500732422\n",
      "Total training time: 15060.376676082611 sec\n",
      "Current args: epoch=100, lr=0.1\n"
     ]
    }
   ],
   "source": [
    "# Training and Saving\n",
    "start = time.time()\n",
    "\n",
    "for epoch in range(args.epochs):\n",
    "    model.train()\n",
    "    train_epoch_loss = []\n",
    "    for idx,(data_x,data_y) in enumerate(train_loader,0):\n",
    "        data_x = data_x.to(torch.float32).to(args.device)\n",
    "        data_y = data_y.to(torch.float32).to(args.device)\n",
    "        optimizer.zero_grad()\n",
    "        outputs = model(data_x)\n",
    "        loss = criterion(data_y, outputs)\n",
    "        loss.backward()\n",
    "        optimizer.step()\n",
    "        train_epoch_loss.append(loss.item())\n",
    "        train_loss.append(loss.item())\n",
    "        if idx%(len(train_loader)//2)==0:\n",
    "            print(\"\\repoch={}/{},{}/{}of train, loss={}\".format(\n",
    "            epoch, args.epochs, idx, len(train_loader),loss.item()), end='')\n",
    "    train_epochs_loss.append(np.average(train_epoch_loss))\n",
    "  \n",
    "  #=====================valid============================\n",
    "model.eval()\n",
    "valid_epoch_loss = []\n",
    "for idx,(data_x,data_y) in enumerate(valid_loader,0):\n",
    "    data_x = data_x.to(torch.float32).to(args.device)\n",
    "    data_y = data_y.to(torch.float32).to(args.device)\n",
    "    outputs = model(data_x)\n",
    "    loss = criterion(outputs,data_y)\n",
    "    valid_epoch_loss.append(loss.item())\n",
    "    valid_loss.append(loss.item())\n",
    "valid_epochs_loss.append(np.average(valid_epoch_loss))\n",
    "\n",
    "  #==================early stopping======================\n",
    "  # early_stopping(valid_epochs_loss[-1],model=MyModel,path=r'')\n",
    "  # if early_stopping.early_stop:\n",
    "  #    print(\"Early stopping\")\n",
    "  #    break\n",
    "  #====================adjust lr========================\n",
    "lr_adjust = {\n",
    "    2: 5e-5, 4: 1e-5, 6: 5e-6, 8: 1e-6,\n",
    "    10: 5e-7, 15: 1e-7, 20: 5e-8\n",
    "}\n",
    "  #if epoch in lr_adjust.keys():\n",
    "  #    lr = lr_adjust[epoch]\n",
    "  #    for param_group in optimizer.param_groups:\n",
    "  #        param_group['lr'] = lr\n",
    "  #    print('Updating learning rate to {}'.format(lr))\n",
    "\n",
    "end = time.time()\n",
    "print(\"\\nTotal training time:\", end-start, \"sec\")\n",
    "print(\"Current args: epoch={}, lr={}\".format(args.epochs, args.learning_rate))"
   ]
  },
  {
   "cell_type": "code",
   "execution_count": null,
   "metadata": {},
   "outputs": [],
   "source": [
    "torch.save(model.state_dict(), '../Models/v01a1_w.pth')"
   ]
  },
  {
   "cell_type": "markdown",
   "metadata": {
    "id": "U1q7NOncq_U7"
   },
   "source": [
    "## Visualization of Training Process"
   ]
  },
  {
   "cell_type": "code",
   "execution_count": 12,
   "metadata": {},
   "outputs": [
    {
     "data": {
      "text/plain": [
       "<matplotlib.legend.Legend at 0x7fd184af6a60>"
      ]
     },
     "execution_count": 12,
     "metadata": {},
     "output_type": "execute_result"
    },
    {
     "data": {
      "image/png": "[encoded data removed]",
      "text/plain": [
       "<Figure size 432x288 with 2 Axes>"
      ]
     },
     "metadata": {
      "needs_background": "light"
     },
     "output_type": "display_data"
    }
   ],
   "source": [
    "# Plot loss curves\n",
    "\n",
    "%matplotlib inline\n",
    "plt.clf()\n",
    "plt.suptitle(\"Training loss and Validation loss\")\n",
    "plt.subplot(2, 1, 1)\n",
    "plt.plot(train_epochs_loss[20:], 'b', label = 'training_loss')\n",
    "plt.ylabel('loss')\n",
    "plt.xlabel('#epoch')\n",
    "plt.legend()\n",
    "plt.subplot(2, 1, 2)\n",
    "plt.plot(valid_loss, 'b', label = 'validation_loss')\n",
    "plt.ylabel('loss')\n",
    "plt.xlabel('#iter')\n",
    "plt.legend()\n",
    "#plt.savefig(\"loss_900epoch_down.jpg\")"
   ]
  },
  {
   "cell_type": "code",
   "execution_count": 27,
   "metadata": {},
   "outputs": [
    {
     "name": "stdout",
     "output_type": "stream",
     "text": [
      "(600,) (2,)\n",
      "(25800,) (26,)\n"
     ]
    }
   ],
   "source": [
    "print(np.array(train_epochs_loss).shape, np.array(valid_epochs_loss).shape)\n",
    "print(np.array(train_loss).shape, np.array(valid_loss).shape)"
   ]
  },
  {
   "cell_type": "markdown",
   "metadata": {},
   "source": [
    "## Estimation"
   ]
  },
  {
   "cell_type": "code",
   "execution_count": 14,
   "metadata": {},
   "outputs": [
    {
     "name": "stdout",
     "output_type": "stream",
     "text": [
      "(3900, 2, 90, 33)\n",
      "(3900, 3)\n"
     ]
    },
    {
     "data": {
      "image/png": "[encoded data removed]",
      "text/plain": [
       "<Figure size 432x288 with 1 Axes>"
      ]
     },
     "metadata": {
      "needs_background": "light"
     },
     "output_type": "display_data"
    }
   ],
   "source": [
    "datadir = '../Dataset/make01/'\n",
    "gt_x = datadir + 'x.npy'\n",
    "gt_y = datadir + 'y.npy'\n",
    "sample_x = np.load(gt_x)\n",
    "sample_y = np.load(gt_y)\n",
    "print(sample_x.shape)\n",
    "print(sample_y.shape)\n",
    "for i in range(len(sample_y)):\n",
    "    plt.scatter(sample_y[i][0], sample_y[i][1], color=(sample_y[i][2]/4000, 0.2, 0.2))\n",
    "plt.show()"
   ]
  },
  {
   "cell_type": "code",
   "execution_count": 15,
   "metadata": {},
   "outputs": [
    {
     "data": {
      "image/png": "[encoded data removed]",
      "text/plain": [
       "<Figure size 432x288 with 1 Axes>"
      ]
     },
     "metadata": {
      "needs_background": "light"
     },
     "output_type": "display_data"
    }
   ],
   "source": [
    "%matplotlib inline\n",
    "for i in range(len(sample_x)):\n",
    "    data = torch.tensor(sample_x[i], dtype=torch.float32, device=args.device)\n",
    "    predictions = model(data)\n",
    "    pred = predictions.cpu().detach().numpy()[0]\n",
    "    plt.scatter(pred[0], pred[1], color=(pred[2]/4000, 0.2, 0.2))\n",
    "plt.show()"
   ]
  },
  {
   "cell_type": "code",
   "execution_count": null,
   "metadata": {},
   "outputs": [],
   "source": []
  }
 ],
 "metadata": {
  "colab": {
   "authorship_tag": "ABX9TyOu2+56/iaay+3ugFmvPoFz",
   "provenance": []
  },
  "kernelspec": {
   "display_name": "Python 3",
   "language": "python",
   "name": "python3"
  },
  "language_info": {
   "codemirror_mode": {
    "name": "ipython",
    "version": 3
   },
   "file_extension": ".py",
   "mimetype": "text/x-python",
   "name": "python",
   "nbconvert_exporter": "python",
   "pygments_lexer": "ipython3",
   "version": "3.8.8"
  }
 },
 "nbformat": 4,
 "nbformat_minor": 4
}
