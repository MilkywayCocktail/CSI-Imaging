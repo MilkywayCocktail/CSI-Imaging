{
 "cells": [
  {
   "cell_type": "code",
   "execution_count": 1,
   "id": "46e4d312-8e4c-4696-81fe-2f3b91645394",
   "metadata": {},
   "outputs": [],
   "source": [
    "# Imports\n",
    "# !pip install torchinfo\n",
    "import torch\n",
    "import torch.nn as nn\n",
    "import torch.utils.data as Data\n",
    "import torchvision\n",
    "from torchinfo import summary\n",
    "import matplotlib.pyplot as plt\n",
    "import numpy as np\n",
    "import random\n",
    "import os\n",
    "import time\n",
    "import TrainingPresets as TP"
   ]
  },
  {
   "cell_type": "code",
   "execution_count": 19,
   "id": "7e04b3ac-c5e3-4e5a-99dd-df38a5afab0f",
   "metadata": {},
   "outputs": [],
   "source": [
    "import model_v01b3 as mymodel"
   ]
  },
  {
   "cell_type": "code",
   "execution_count": 3,
   "id": "f4502ecc-81ff-4973-94d7-6ec7c77ce717",
   "metadata": {},
   "outputs": [
    {
     "data": {
      "text/plain": [
       "==========================================================================================\n",
       "Layer (type:depth-idx)                   Output Shape              Param #\n",
       "==========================================================================================\n",
       "MyModel                                  [1, 3]                    --\n",
       "├─MyEncoder: 1-1                         [1, 128]                  --\n",
       "│    └─MyEncodeCNN: 2-1                  --                        2,626,048\n",
       "│    │    └─Sequential: 3-1              [1, 16, 30, 98]           160\n",
       "│    │    └─Sequential: 3-2              [1, 32, 26, 94]           12,832\n",
       "│    │    └─Sequential: 3-3              [1, 64, 22, 90]           51,264\n",
       "│    │    └─Sequential: 3-4              [1, 128, 18, 86]          204,928\n",
       "│    │    └─Sequential: 3-5              [1, 256, 14, 82]          819,456\n",
       "│    │    └─Sequential: 3-6              [1, 256, 1, 1]            --\n",
       "│    └─MyEncodeCNN: 2-2                  --                        2,626,048\n",
       "│    │    └─Sequential: 3-7              [1, 16, 30, 98]           160\n",
       "│    │    └─Sequential: 3-8              [1, 32, 26, 94]           12,832\n",
       "│    │    └─Sequential: 3-9              [1, 64, 22, 90]           51,264\n",
       "│    │    └─Sequential: 3-10             [1, 128, 18, 86]          204,928\n",
       "│    │    └─Sequential: 3-11             [1, 256, 14, 82]          819,456\n",
       "│    │    └─Sequential: 3-12             [1, 256, 1, 1]            --\n",
       "│    └─MyEncodeFC: 2-3                   [1, 128]                  --\n",
       "│    │    └─Sequential: 3-13             [1, 128]                  2,625,664\n",
       "├─MyDecoder: 1-2                         [1, 3]                    --\n",
       "│    └─MyDecodeFC: 2-4                   --                        4,097\n",
       "│    │    └─Sequential: 3-14             [1, 4096]                 17,309,696\n",
       "│    │    └─Sequential: 3-15             [1, 3]                    12,291\n",
       "==========================================================================================\n",
       "Total params: 27,381,124\n",
       "Trainable params: 27,381,124\n",
       "Non-trainable params: 0\n",
       "Total mult-adds (G): 2.80\n",
       "==========================================================================================\n",
       "Input size (MB): 0.07\n",
       "Forward/backward pass size (MB): 12.00\n",
       "Params size (MB): 88.50\n",
       "Estimated Total Size (MB): 100.58\n",
       "=========================================================================================="
      ]
     },
     "execution_count": 3,
     "metadata": {},
     "output_type": "execute_result"
    }
   ],
   "source": [
    "torch.cuda.get_device_name(0)\n",
    "m1 = mymodel.MyModel().to(torch.device(\"cuda:1\"))\n",
    "summary(m1, input_size=(2, 90, 100))"
   ]
  },
  {
   "cell_type": "code",
   "execution_count": 4,
   "id": "7bf80ebe-7cf9-47aa-8d39-373b76ae9835",
   "metadata": {},
   "outputs": [
    {
     "name": "stdout",
     "output_type": "stream",
     "text": [
      "['sid.npy', 'csi.npy']\n"
     ]
    }
   ],
   "source": [
    "datadir = '../Dataset/0302make00/'\n",
    "print(os.listdir(datadir))"
   ]
  },
  {
   "cell_type": "code",
   "execution_count": 5,
   "id": "1f1c6ffd-9cc9-4b2b-8df8-25f41eb1994a",
   "metadata": {},
   "outputs": [
    {
     "name": "stdout",
     "output_type": "stream",
     "text": [
      "loaded\n",
      "(3000, 2, 100, 90) (3000,)\n",
      "2100 600 300\n",
      "2100 600 300\n"
     ]
    }
   ],
   "source": [
    "mydata = TP.MyDataset(datadir + 'csi.npy', datadir + 'sid.npy')\n",
    "print(mydata.data['x'].shape, mydata.data['y'].shape)\n",
    "\n",
    "train_size = int(len(mydata) * 0.7)\n",
    "valid_size = int(len(mydata) * 0.2)\n",
    "test_size = int(len(mydata)) - train_size - valid_size\n",
    "print(train_size, valid_size, test_size)\n",
    "\n",
    "train_loader, valid_loader, test_loader = TP.split_loader(mydata, train_size, valid_size, test_size, 8)"
   ]
  },
  {
   "cell_type": "code",
   "execution_count": 6,
   "id": "06052fb8-5645-4cd8-bb8b-93ad32374fd1",
   "metadata": {},
   "outputs": [],
   "source": [
    "# Hyperparameters\n",
    "args = TP.MyArgs(cuda=1, epochs=100, learning_rate=0.001, criterion=nn.CrossEntropyLoss())"
   ]
  },
  {
   "cell_type": "code",
   "execution_count": 24,
   "id": "baa41d85-8b1a-450c-a44c-f7ee401c8dd1",
   "metadata": {},
   "outputs": [],
   "source": [
    "# Model and Loss\n",
    "\n",
    "model = mymodel.MyModel().to(args.device)\n",
    "optimizer = torch.optim.Adam(model.parameters(), lr=args.learning_rate)\n",
    "\n",
    "train_loss = []\n",
    "valid_loss = []\n",
    "train_epochs_loss = []\n",
    "valid_epochs_loss = []\n",
    "\n",
    "# early_stopping = EarlyStopping(patience=args.patience,verbose=True)"
   ]
  },
  {
   "cell_type": "code",
   "execution_count": 25,
   "id": "2481008b-4cdf-4476-a960-749fc65aa02b",
   "metadata": {},
   "outputs": [
    {
     "name": "stdout",
     "output_type": "stream",
     "text": [
      "epoch=1/100,0/262of train, loss=0.0.02171716690063"
     ]
    },
    {
     "ename": "KeyboardInterrupt",
     "evalue": "",
     "output_type": "error",
     "traceback": [
      "\u001b[0;31m\u001b[0m",
      "\u001b[0;31mKeyboardInterrupt\u001b[0mTraceback (most recent call last)",
      "\u001b[0;32m<ipython-input-25-56a1e9f615d8>\u001b[0m in \u001b[0;36m<module>\u001b[0;34m\u001b[0m\n\u001b[1;32m      8\u001b[0m         \u001b[0mdata_x\u001b[0m \u001b[0;34m=\u001b[0m \u001b[0mdata_x\u001b[0m\u001b[0;34m.\u001b[0m\u001b[0mto\u001b[0m\u001b[0;34m(\u001b[0m\u001b[0mtorch\u001b[0m\u001b[0;34m.\u001b[0m\u001b[0mfloat32\u001b[0m\u001b[0;34m)\u001b[0m\u001b[0;34m.\u001b[0m\u001b[0mto\u001b[0m\u001b[0;34m(\u001b[0m\u001b[0margs\u001b[0m\u001b[0;34m.\u001b[0m\u001b[0mdevice\u001b[0m\u001b[0;34m)\u001b[0m\u001b[0;34m\u001b[0m\u001b[0;34m\u001b[0m\u001b[0m\n\u001b[1;32m      9\u001b[0m         \u001b[0mdata_y\u001b[0m \u001b[0;34m=\u001b[0m \u001b[0mdata_y\u001b[0m\u001b[0;34m.\u001b[0m\u001b[0mto\u001b[0m\u001b[0;34m(\u001b[0m\u001b[0mtorch\u001b[0m\u001b[0;34m.\u001b[0m\u001b[0mlong\u001b[0m\u001b[0;34m)\u001b[0m\u001b[0;34m.\u001b[0m\u001b[0mto\u001b[0m\u001b[0;34m(\u001b[0m\u001b[0margs\u001b[0m\u001b[0;34m.\u001b[0m\u001b[0mdevice\u001b[0m\u001b[0;34m)\u001b[0m\u001b[0;34m\u001b[0m\u001b[0;34m\u001b[0m\u001b[0m\n\u001b[0;32m---> 10\u001b[0;31m         \u001b[0moptimizer\u001b[0m\u001b[0;34m.\u001b[0m\u001b[0mzero_grad\u001b[0m\u001b[0;34m(\u001b[0m\u001b[0;34m)\u001b[0m\u001b[0;34m\u001b[0m\u001b[0;34m\u001b[0m\u001b[0m\n\u001b[0m\u001b[1;32m     11\u001b[0m         \u001b[0moutputs\u001b[0m \u001b[0;34m=\u001b[0m \u001b[0mmodel\u001b[0m\u001b[0;34m(\u001b[0m\u001b[0mdata_x\u001b[0m\u001b[0;34m)\u001b[0m\u001b[0;34m\u001b[0m\u001b[0;34m\u001b[0m\u001b[0m\n\u001b[1;32m     12\u001b[0m         \u001b[0mloss\u001b[0m \u001b[0;34m=\u001b[0m \u001b[0margs\u001b[0m\u001b[0;34m.\u001b[0m\u001b[0mcriterion\u001b[0m\u001b[0;34m(\u001b[0m\u001b[0moutputs\u001b[0m\u001b[0;34m,\u001b[0m \u001b[0mdata_y\u001b[0m\u001b[0;34m)\u001b[0m\u001b[0;34m\u001b[0m\u001b[0;34m\u001b[0m\u001b[0m\n",
      "\u001b[0;32m/opt/conda/lib/python3.8/site-packages/torch/optim/optimizer.py\u001b[0m in \u001b[0;36mzero_grad\u001b[0;34m(self, set_to_none)\u001b[0m\n\u001b[1;32m    215\u001b[0m                             \u001b[0;32melse\u001b[0m\u001b[0;34m:\u001b[0m\u001b[0;34m\u001b[0m\u001b[0;34m\u001b[0m\u001b[0m\n\u001b[1;32m    216\u001b[0m                                 \u001b[0mp\u001b[0m\u001b[0;34m.\u001b[0m\u001b[0mgrad\u001b[0m\u001b[0;34m.\u001b[0m\u001b[0mrequires_grad_\u001b[0m\u001b[0;34m(\u001b[0m\u001b[0;32mFalse\u001b[0m\u001b[0;34m)\u001b[0m\u001b[0;34m\u001b[0m\u001b[0;34m\u001b[0m\u001b[0m\n\u001b[0;32m--> 217\u001b[0;31m                             \u001b[0mp\u001b[0m\u001b[0;34m.\u001b[0m\u001b[0mgrad\u001b[0m\u001b[0;34m.\u001b[0m\u001b[0mzero_\u001b[0m\u001b[0;34m(\u001b[0m\u001b[0;34m)\u001b[0m\u001b[0;34m\u001b[0m\u001b[0;34m\u001b[0m\u001b[0m\n\u001b[0m\u001b[1;32m    218\u001b[0m \u001b[0;34m\u001b[0m\u001b[0m\n\u001b[1;32m    219\u001b[0m     \u001b[0;32mdef\u001b[0m \u001b[0mstep\u001b[0m\u001b[0;34m(\u001b[0m\u001b[0mself\u001b[0m\u001b[0;34m,\u001b[0m \u001b[0mclosure\u001b[0m\u001b[0;34m)\u001b[0m\u001b[0;34m:\u001b[0m\u001b[0;34m\u001b[0m\u001b[0;34m\u001b[0m\u001b[0m\n",
      "\u001b[0;31mKeyboardInterrupt\u001b[0m: "
     ]
    }
   ],
   "source": [
    "# Training and Saving\n",
    "start = time.time()\n",
    "\n",
    "for epoch in range(args.epochs):\n",
    "    model.train()\n",
    "    train_epoch_loss = []\n",
    "    for idx,(data_x,data_y) in enumerate(train_loader,0):\n",
    "        data_x = data_x.to(torch.float32).to(args.device)\n",
    "        data_y = data_y.to(torch.long).to(args.device)\n",
    "        optimizer.zero_grad()\n",
    "        outputs = model(data_x)\n",
    "        loss = args.criterion(outputs, data_y)\n",
    "        loss.backward()\n",
    "        optimizer.step()\n",
    "        train_epoch_loss.append(loss.item())\n",
    "        train_loss.append(loss.item())\n",
    "        if idx%(len(train_loader)//2)==0:\n",
    "            print(\"\\repoch={}/{},{}/{}of train, loss={}\".format(\n",
    "            epoch, args.epochs, idx, len(train_loader),loss.item()), end='')\n",
    "    train_epochs_loss.append(np.average(train_epoch_loss))\n",
    "\n",
    "end = time.time()\n",
    "print(\"\\nTotal training time:\", end-start, \"sec\")"
   ]
  },
  {
   "cell_type": "code",
   "execution_count": 10,
   "id": "1f03ebe9-6bf1-4de6-8e90-3e59933ed58d",
   "metadata": {},
   "outputs": [],
   "source": [
    "  #=====================valid============================\n",
    "model.eval()\n",
    "valid_epoch_loss = []\n",
    "for idx,(data_x,data_y) in enumerate(valid_loader,0):\n",
    "    data_x = data_x.to(torch.float32).to(args.device)\n",
    "    data_y = data_y.to(torch.long).to(args.device)\n",
    "    outputs = model(data_x)\n",
    "    loss = args.criterion(outputs,data_y)\n",
    "    valid_epoch_loss.append(loss.item())\n",
    "    valid_loss.append(loss.item())\n",
    "valid_epochs_loss.append(np.average(valid_epoch_loss))\n",
    "\n",
    "  #==================early stopping======================\n",
    "  # early_stopping(valid_epochs_loss[-1],model=MyModel,path=r'')\n",
    "  # if early_stopping.early_stop:\n",
    "  #    print(\"Early stopping\")\n",
    "  #    break\n",
    "  #====================adjust lr========================\n",
    "lr_adjust = {\n",
    "    2: 5e-5, 4: 1e-5, 6: 5e-6, 8: 1e-6,\n",
    "    10: 5e-7, 15: 1e-7, 20: 5e-8\n",
    "}\n",
    "  #if epoch in lr_adjust.keys():\n",
    "  #    lr = lr_adjust[epoch]\n",
    "  #    for param_group in optimizer.param_groups:\n",
    "  #        param_group['lr'] = lr\n",
    "  #    print('Updating learning rate to {}'.format(lr))\n",
    "\n",
    "#torch.save(model.state_dict(), '../Models/v01b2_ep300.pth')\n"
   ]
  },
  {
   "cell_type": "code",
   "execution_count": 11,
   "id": "5c99ccb9-2b07-4f53-bc14-59fffe8a479b",
   "metadata": {},
   "outputs": [
    {
     "data": {
      "text/plain": [
       "<matplotlib.legend.Legend at 0x7fd7c3a71790>"
      ]
     },
     "execution_count": 11,
     "metadata": {},
     "output_type": "execute_result"
    },
    {
     "data": {
      "image/png": "[encoded data removed]",
      "text/plain": [
       "<Figure size 432x288 with 2 Axes>"
      ]
     },
     "metadata": {
      "needs_background": "light"
     },
     "output_type": "display_data"
    }
   ],
   "source": [
    "# Plot loss curves\n",
    "\n",
    "%matplotlib inline\n",
    "plt.figure()\n",
    "plt.clf()\n",
    "plt.suptitle(\"Training loss and Validation loss\")\n",
    "plt.subplot(2, 1, 1)\n",
    "plt.plot(train_epochs_loss[1:], 'b', label = 'training_loss')\n",
    "plt.ylabel('loss')\n",
    "plt.xlabel('#epoch')\n",
    "plt.legend()\n",
    "plt.subplot(2, 1, 2)\n",
    "plt.plot(valid_loss, 'b', label = 'validation_loss')\n",
    "plt.ylabel('loss')\n",
    "plt.xlabel('#iter')\n",
    "plt.legend()\n",
    "#plt.savefig(\"loss_900epoch_down.jpg\")"
   ]
  },
  {
   "cell_type": "code",
   "execution_count": 22,
   "id": "3f292940-9bfb-4061-b7c8-fa5b50b45ef8",
   "metadata": {},
   "outputs": [
    {
     "name": "stdout",
     "output_type": "stream",
     "text": [
      "240/300of test, loss=0.0"
     ]
    }
   ],
   "source": [
    "  #=====================test============================\n",
    "estimate = []\n",
    "test_loss = []\n",
    "ground_truth = []\n",
    "model.eval()\n",
    "for idx,(data_x,data_y) in enumerate(test_loader,0):\n",
    "    data_x = data_x.to(torch.float32).to(args.device)\n",
    "    data_y = data_y.to(torch.long).to(args.device)\n",
    "    outputs = model(data_x)\n",
    "    loss = args.criterion(outputs,data_y)\n",
    "    estimate.append(outputs.cpu().detach().numpy().squeeze().tolist())\n",
    "    ground_truth.append(data_y.cpu().detach().numpy().squeeze().tolist())\n",
    "    test_loss.append(loss.item())\n",
    "    if idx%(len(test_loader)//5)==0:\n",
    "        print(\"\\r{}/{}of test, loss={}\".format(\n",
    "        idx, len(test_loader),loss.item()), end='')"
   ]
  },
  {
   "cell_type": "code",
   "execution_count": 23,
   "id": "08aa820f-9ea2-4152-9793-77db5210a7bb",
   "metadata": {},
   "outputs": [
    {
     "data": {
      "text/plain": [
       "Text(30.5, 0.5, 'true')"
      ]
     },
     "execution_count": 23,
     "metadata": {},
     "output_type": "execute_result"
    },
    {
     "data": {
      "text/plain": [
       "<Figure size 432x288 with 0 Axes>"
      ]
     },
     "metadata": {},
     "output_type": "display_data"
    },
    {
     "data": {
      "image/png": "[encoded data removed]",
      "text/plain": [
       "<Figure size 432x288 with 2 Axes>"
      ]
     },
     "metadata": {},
     "output_type": "display_data"
    }
   ],
   "source": [
    "import seaborn as sns\n",
    "from sklearn.metrics import confusion_matrix\n",
    "%matplotlib inline\n",
    "\n",
    "def fromonehot(inlist):\n",
    "    out = []\n",
    "    for item in inlist:\n",
    "        if np.argmax(item) == 0:\n",
    "            out.append(0)\n",
    "        elif np.argmax(item) == 1:\n",
    "            out.append(1)\n",
    "        elif np.argmax(item) == 2:\n",
    "            out.append(2)\n",
    "    return out\n",
    "\n",
    "predicted = [np.argmax(row) for row in estimate]\n",
    "\n",
    "plt.figure()\n",
    "sns.set()\n",
    "f,ax=plt.subplots()\n",
    "cf = confusion_matrix(ground_truth, predicted)\n",
    "\n",
    "sns.heatmap(cf,annot=True,ax=ax) \n",
    "\n",
    "ax.set_title('confusion matrix') \n",
    "ax.set_xlabel('predict') \n",
    "ax.set_ylabel('true')"
   ]
  },
  {
   "cell_type": "code",
   "execution_count": null,
   "id": "735216f0-53da-44fb-97c7-9e284f62fb95",
   "metadata": {},
   "outputs": [],
   "source": []
  }
 ],
 "metadata": {
  "kernelspec": {
   "display_name": "Python 3",
   "language": "python",
   "name": "python3"
  },
  "language_info": {
   "codemirror_mode": {
    "name": "ipython",
    "version": 3
   },
   "file_extension": ".py",
   "mimetype": "text/x-python",
   "name": "python",
   "nbconvert_exporter": "python",
   "pygments_lexer": "ipython3",
   "version": "3.8.8"
  }
 },
 "nbformat": 4,
 "nbformat_minor": 5
}
